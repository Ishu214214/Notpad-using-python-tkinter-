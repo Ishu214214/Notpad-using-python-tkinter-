{
 "cells": [
  {
   "cell_type": "code",
   "execution_count": null,
   "metadata": {},
   "outputs": [],
   "source": [
    "from tkinter import *\n",
    "\n",
    "def donothing():\n",
    "    print('press')\n",
    "    \n",
    "root=Tk()\n",
    "root.geometry('700x700')\n",
    "root.title('NotePad')\n",
    "root.configure(background=\"white\")\n",
    "\n",
    "menubar =Menu(root  ,bg=\"#FFFDD0\"  , fg=\"#F70D1A\", font = (\"Times New Roman\" ,23, 'bold')  )    \n",
    "\n",
    "fmenu =Menu(menubar,tearoff=0)\n",
    "fmenu.add_command(label='new'  ,command=donothing)\n",
    "fmenu.add_command(label='open', command=donothing)\n",
    "fmenu.add_separator()\n",
    "fmenu.add_command(label='save', command=donothing)\n",
    "menubar.add_cascade(label=\"File\",menu=fmenu)\n",
    "menubar.add_cascade(label=\"|\")\n",
    "\n",
    "\n",
    "fmenu1 =Menu(menubar,tearoff=0)\n",
    "fmenu1.add_command(label='new', command=donothing)\n",
    "fmenu1.add_command(label='open', command=donothing)\n",
    "fmenu1.add_command(label='save', command=donothing)\n",
    "menubar.add_cascade(label=\"Edit\",menu=fmenu1)\n",
    "menubar.add_cascade(label=\"|\")\n",
    "\n",
    "\n",
    "fmenu2 =Menu(menubar,tearoff=0)\n",
    "fmenu2.add_command(label='new', command=donothing)\n",
    "fmenu2.add_command(label='open', command=donothing)\n",
    "fmenu2.add_command(label='save', command=donothing)\n",
    "menubar.add_cascade(label=\"View\",menu=fmenu2)\n",
    "\n",
    "\n",
    "root.config(menu=menubar)\n",
    "    \n",
    "root.mainloop()"
   ]
  }
 ],
 "metadata": {
  "kernelspec": {
   "display_name": "Python 3",
   "language": "python",
   "name": "python3"
  },
  "language_info": {
   "codemirror_mode": {
    "name": "ipython",
    "version": 3
   },
   "file_extension": ".py",
   "mimetype": "text/x-python",
   "name": "python",
   "nbconvert_exporter": "python",
   "pygments_lexer": "ipython3",
   "version": "3.8.5"
  }
 },
 "nbformat": 4,
 "nbformat_minor": 4
}
